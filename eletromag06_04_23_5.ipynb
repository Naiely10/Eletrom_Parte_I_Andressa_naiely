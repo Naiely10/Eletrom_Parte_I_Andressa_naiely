{
  "nbformat": 4,
  "nbformat_minor": 0,
  "metadata": {
    "colab": {
      "provenance": [],
      "authorship_tag": "ABX9TyN7mZg0XZ3ZnUzmQ9xSUpPz",
      "include_colab_link": true
    },
    "kernelspec": {
      "name": "python3",
      "display_name": "Python 3"
    },
    "language_info": {
      "name": "python"
    }
  },
  "cells": [
    {
      "cell_type": "markdown",
      "metadata": {
        "id": "view-in-github",
        "colab_type": "text"
      },
      "source": [
        "<a href=\"https://colab.research.google.com/github/Naiely10/Eletrom_Parte_I_Andressa_naiely/blob/main/eletromag06_04_23_5.ipynb\" target=\"_parent\"><img src=\"https://colab.research.google.com/assets/colab-badge.svg\" alt=\"Open In Colab\"/></a>"
      ]
    },
    {
      "cell_type": "code",
      "execution_count": null,
      "metadata": {
        "id": "2kKTYp-_VCt7"
      },
      "outputs": [],
      "source": [
        "import numpy as np\n",
        "import sympy as sp"
      ]
    },
    {
      "cell_type": "code",
      "source": [],
      "metadata": {
        "id": "4ZVLNnxulwsb"
      },
      "execution_count": null,
      "outputs": []
    },
    {
      "cell_type": "code",
      "source": [
        "#1.2\n",
        "A=sp.Matrix([2,5,-3])\n",
        "B=sp.Matrix([3,-4,0])\n",
        "C=sp.Matrix([1,1,1])"
      ],
      "metadata": {
        "id": "qEJU1i2UVVPq"
      },
      "execution_count": null,
      "outputs": []
    },
    {
      "cell_type": "code",
      "source": [
        "#a)\n",
        "soma=A+2*B\n",
        "print(soma)"
      ],
      "metadata": {
        "colab": {
          "base_uri": "https://localhost:8080/"
        },
        "id": "mdYImqY2V2ry",
        "outputId": "4f1b85ce-9ee7-4e80-ec2e-dd04aa34b52b"
      },
      "execution_count": null,
      "outputs": [
        {
          "output_type": "stream",
          "name": "stdout",
          "text": [
            "Matrix([[8], [-3], [-3]])\n"
          ]
        }
      ]
    },
    {
      "cell_type": "code",
      "source": [
        "#b)\n",
        "(A-5*C).norm()"
      ],
      "metadata": {
        "colab": {
          "base_uri": "https://localhost:8080/",
          "height": 39
        },
        "id": "LN5DMfSbWX41",
        "outputId": "15aa488b-aa0d-438b-f1b3-2068ecee6bcb"
      },
      "execution_count": null,
      "outputs": [
        {
          "output_type": "execute_result",
          "data": {
            "text/plain": [
              "sqrt(73)"
            ],
            "text/latex": "$\\displaystyle \\sqrt{73}$"
          },
          "metadata": {},
          "execution_count": 42
        }
      ]
    },
    {
      "cell_type": "code",
      "source": [
        "#c)\n",
        "k=sp.symbols('k')\n",
        "equacao=sp.Eq(k*(B).norm(),2)\n",
        "sol=sp.solve(equacao)\n",
        "sol"
      ],
      "metadata": {
        "colab": {
          "base_uri": "https://localhost:8080/"
        },
        "id": "I7ka45vTW-nQ",
        "outputId": "344af36a-7dcf-4f98-f85b-d75cac41ce52"
      },
      "execution_count": null,
      "outputs": [
        {
          "output_type": "execute_result",
          "data": {
            "text/plain": [
              "[2/5]"
            ]
          },
          "metadata": {},
          "execution_count": 43
        }
      ]
    },
    {
      "cell_type": "code",
      "source": [],
      "metadata": {
        "id": "tqFDHTlHZuwu"
      },
      "execution_count": null,
      "outputs": []
    },
    {
      "cell_type": "code",
      "source": [
        "#d)\n",
        "A.cross(B)/(A.dot(B))"
      ],
      "metadata": {
        "colab": {
          "base_uri": "https://localhost:8080/",
          "height": 78
        },
        "id": "muA4PDMcY8zP",
        "outputId": "85c43239-987d-4aec-bc03-05c88e60ab48"
      },
      "execution_count": null,
      "outputs": [
        {
          "output_type": "execute_result",
          "data": {
            "text/plain": [
              "Matrix([\n",
              "[  6/7],\n",
              "[ 9/14],\n",
              "[23/14]])"
            ],
            "text/latex": "$\\displaystyle \\left[\\begin{matrix}\\frac{6}{7}\\\\\\frac{9}{14}\\\\\\frac{23}{14}\\end{matrix}\\right]$"
          },
          "metadata": {},
          "execution_count": 19
        }
      ]
    },
    {
      "cell_type": "code",
      "source": [
        "#i.3fazer em casa"
      ],
      "metadata": {
        "id": "4UvX9SiiZxII"
      },
      "execution_count": null,
      "outputs": []
    },
    {
      "cell_type": "code",
      "source": [
        "#1.5\n",
        "a,b=sp.symbols(['alpha','beta'])\n",
        "A=sp.Matrix([5,3,2])\n",
        "B=sp.Matrix([-1,4,6])\n",
        "C=sp.Matrix([8,2,0])\n",
        "v=a*A+b*B+C\n",
        "v\n"
      ],
      "metadata": {
        "colab": {
          "base_uri": "https://localhost:8080/",
          "height": 78
        },
        "id": "Wf05LzyBZ0wA",
        "outputId": "3ef94d40-e0fd-44b2-998a-501900b3ee62"
      },
      "execution_count": null,
      "outputs": [
        {
          "output_type": "execute_result",
          "data": {
            "text/plain": [
              "Matrix([\n",
              "[  5*alpha - beta + 8],\n",
              "[3*alpha + 4*beta + 2],\n",
              "[    2*alpha + 6*beta]])"
            ],
            "text/latex": "$\\displaystyle \\left[\\begin{matrix}5 \\alpha - \\beta + 8\\\\3 \\alpha + 4 \\beta + 2\\\\2 \\alpha + 6 \\beta\\end{matrix}\\right]$"
          },
          "metadata": {},
          "execution_count": 27
        }
      ]
    },
    {
      "cell_type": "code",
      "source": [
        "from IPython.display import display, Math\n",
        "sist=[sp.Eq(v[0],0),sp.Eq(v[2],0)]\n",
        "sol=sp.solve(sist)\n",
        "display(Math(sp.latex(sist)))\n",
        "display(Math(sp.latex(sol)))"
      ],
      "metadata": {
        "colab": {
          "base_uri": "https://localhost:8080/",
          "height": 79
        },
        "id": "rQAtRpRhdEmy",
        "outputId": "6d68c901-ced4-457c-a0e4-92c3e3d18e60"
      },
      "execution_count": null,
      "outputs": [
        {
          "output_type": "display_data",
          "data": {
            "text/plain": [
              "<IPython.core.display.Math object>"
            ],
            "text/latex": "$\\displaystyle \\left[ 5 \\alpha - \\beta + 8 = 0, \\  2 \\alpha + 6 \\beta = 0\\right]$"
          },
          "metadata": {}
        },
        {
          "output_type": "display_data",
          "data": {
            "text/plain": [
              "<IPython.core.display.Math object>"
            ],
            "text/latex": "$\\displaystyle \\left\\{ \\alpha : - \\frac{3}{2}, \\  \\beta : \\frac{1}{2}\\right\\}$"
          },
          "metadata": {}
        }
      ]
    },
    {
      "cell_type": "code",
      "source": [
        "v.subs(sol)"
      ],
      "metadata": {
        "colab": {
          "base_uri": "https://localhost:8080/",
          "height": 78
        },
        "id": "_bRSEE92fJXW",
        "outputId": "3ab8f106-16f8-4b47-f3ca-42b107d60cb0"
      },
      "execution_count": null,
      "outputs": [
        {
          "output_type": "execute_result",
          "data": {
            "text/plain": [
              "Matrix([\n",
              "[   0],\n",
              "[-1/2],\n",
              "[   0]])"
            ],
            "text/latex": "$\\displaystyle \\left[\\begin{matrix}0\\\\- \\frac{1}{2}\\\\0\\end{matrix}\\right]$"
          },
          "metadata": {},
          "execution_count": 32
        }
      ]
    },
    {
      "cell_type": "code",
      "source": [
        "#1.6 fazer fazer lista 1"
      ],
      "metadata": {
        "id": "YYEfMA1EnT5j"
      },
      "execution_count": null,
      "outputs": []
    },
    {
      "cell_type": "code",
      "source": [
        "#1.7 "
      ],
      "metadata": {
        "id": "b8uIbGE4n6UH"
      },
      "execution_count": null,
      "outputs": []
    },
    {
      "cell_type": "markdown",
      "source": [
        "Resolução do capítulo I do livro Sadiku 1.1 ate 1.22"
      ],
      "metadata": {
        "id": "8cziYNMaTTFm"
      }
    },
    {
      "cell_type": "code",
      "source": [
        "import sympy as sp\n",
        "import numpy as np\n",
        "import math"
      ],
      "metadata": {
        "id": "VvkAbC7eUNRy"
      },
      "execution_count": null,
      "outputs": []
    },
    {
      "cell_type": "code",
      "source": [
        "from sympy.functions.elementary.miscellaneous import sqrt\n",
        "from IPython.display import display, Math\n",
        "#questão 1.1\n",
        "A=sp.Matrix([2,4,4])\n",
        "B=sp.Matrix([-3,2,2])\n",
        "\n",
        "C=A+B\n",
        "print(C)\n",
        "C_np = np.array(C).astype(float)\n",
        "C_norm = np.linalg.norm(C_np)\n",
        "u = C_np / C_norm\n",
        "print(u)"
      ],
      "metadata": {
        "colab": {
          "base_uri": "https://localhost:8080/"
        },
        "id": "AF0FzmZhTh6L",
        "outputId": "fb308b53-69ca-4742-8af2-c1ab424128a8"
      },
      "execution_count": null,
      "outputs": [
        {
          "output_type": "stream",
          "name": "stdout",
          "text": [
            "Matrix([[-1], [6], [6]])\n",
            "[[-0.11704115]\n",
            " [ 0.70224688]\n",
            " [ 0.70224688]]\n"
          ]
        }
      ]
    },
    {
      "cell_type": "code",
      "source": [
        "#questão 1.2\n",
        "\n",
        "A=sp.Matrix([2,5,-3])\n",
        "B=sp.Matrix([3,-4,0])\n",
        "C=sp.Matrix([1,1,1])\n",
        "\n",
        "#a)\n",
        "a=A+2*B\n",
        "print(\"a resposta de  A+2*B será: \",a)\n",
        "\n",
        "#b)\n",
        "b=A-5*C\n",
        "b_np = np.array(b).astype(float)\n",
        "b_norm = np.linalg.norm(b_np)\n",
        "print(\"a resposta de  |A+2*B| será: \", b_norm)\n",
        "\n",
        "#c)\n",
        "k=sp.symbols('k')\n",
        "equacao=sp.Eq(k*(B).norm(),2)\n",
        "sol=sp.solve(equacao)\n",
        "print(\"a resposta de  |kB| será: \", sol)\n",
        "\n",
        "#d)\n",
        "d=A.cross(B)/(A.dot(B))\n",
        "print(\"a resposta de  |AxB|/|A.B| será: \", d)"
      ],
      "metadata": {
        "colab": {
          "base_uri": "https://localhost:8080/"
        },
        "id": "IfMyetqZTlC_",
        "outputId": "c97af735-9c90-47e5-dc73-96f149fed80b"
      },
      "execution_count": null,
      "outputs": [
        {
          "output_type": "stream",
          "name": "stdout",
          "text": [
            "a resposta de  A+2*B será:  Matrix([[8], [-3], [-3]])\n",
            "a resposta de  |A+2*B| será:  8.54400374531753\n",
            "a resposta de  |kB| será:  [2/5]\n",
            "a resposta de  |AxB|/|A.B| será:  Matrix([[6/7], [9/14], [23/14]])\n"
          ]
        }
      ]
    },
    {
      "cell_type": "code",
      "source": [
        "#questão 1.3\n",
        "A=sp.Matrix([2,1,-3])\n",
        "B=sp.Matrix([0,1,-1])\n",
        "C=sp.Matrix([3,5,7])\n",
        "\n",
        "#a)\n",
        "a=A-2*B+C\n",
        "print(\"a resposta de  A-2*B+C será: \", a)\n",
        "\n",
        "#b)\n",
        "b=C-4*(A+B)\n",
        "print(\"a resposta de  C-4*(A+B) será: \", b)\n",
        "\n",
        "#c)\n",
        "C_np=np.array(C).astype(float)\n",
        "C_norm=np.linalg.norm(C_np)\n",
        "c=(2*A-3*B)/C_norm\n",
        "print(\"a resposta de  (2*A-3*B)/|C| será: \", c)\n",
        "\n",
        "#d)\n",
        "B_np=np.array(B).astype(float)\n",
        "B_norm=np.linalg.norm(B_np)\n",
        "\n",
        "d=A.dot(C)-B_norm**2\n",
        "print(\"a resposta de  (A.C)-|B|^2 será: \", d)\n",
        "\n",
        "#e)\n",
        "\n",
        "e_1=(1/3*A)+(1/4*C)\n",
        "e_2=1/2*B\n",
        "e=e_2.cross(e_1)\n",
        "print(\"a resposta de  (1/2Bx(1/3A+1/4C) será: \", e)"
      ],
      "metadata": {
        "colab": {
          "base_uri": "https://localhost:8080/"
        },
        "id": "YMBs6iwCTlP3",
        "outputId": "cfd16cd1-1a15-4ce8-b047-d090734d7101"
      },
      "execution_count": null,
      "outputs": [
        {
          "output_type": "stream",
          "name": "stdout",
          "text": [
            "a resposta de  A-2*B+C será:  Matrix([[5], [4], [6]])\n",
            "a resposta de  C-4*(A+B) será:  Matrix([[-5], [-3], [23]])\n",
            "a resposta de  (2*A-3*B)/|C| será:  Matrix([[0.439057039958761], [-0.109764259989690], [-0.329292779969071]])\n",
            "a resposta de  (A.C)-|B|^2 será:  -12.0000000000000\n"
          ]
        }
      ]
    },
    {
      "cell_type": "code",
      "source": [
        "#questão 1.4\n",
        "#a)\n",
        "T=sp.Matrix([3,-2,1])\n",
        "S=sp.Matrix([4,6,2])\n",
        "\n",
        "\n",
        "#b)\n",
        "rTS=S-T\n",
        "print(\"o vetor distância de T até S será: \", p)\n",
        "\n",
        "#c\n",
        "distancia=rTS\n",
        "distancia_np=np.array(distancia).astype(float)\n",
        "distancia_norm=np.linalg.norm(distancia_np)\n",
        "print(\"já que o vetor distância de T até S será: \", p, \"a distância é a mgnitude do vetor distância dado por d=|rTS|\", distancia_norm)"
      ],
      "metadata": {
        "colab": {
          "base_uri": "https://localhost:8080/"
        },
        "id": "zFYWtb4fTlZ8",
        "outputId": "c22cd788-a3e6-41f4-c2cf-15decffff7db"
      },
      "execution_count": null,
      "outputs": [
        {
          "output_type": "stream",
          "name": "stdout",
          "text": [
            "o vetor distância de T até S será:  Matrix([[1], [8], [1]])\n",
            "já que o vetor distância de T até S será:  Matrix([[1], [8], [1]]) a distância é a mgnitude do vetor distância dado por d=|rTS| 8.12403840463596\n"
          ]
        }
      ]
    },
    {
      "cell_type": "code",
      "source": [
        "#questão 1.5\n",
        "a,b=sp.symbols(['alpha','beta'])\n",
        "A=sp.Matrix([5,3,2])\n",
        "B=sp.Matrix([-1,4,6])\n",
        "C=sp.Matrix([8,2,0])\n",
        "v=a*A+b*B+C\n",
        "v\n",
        "\n",
        "#seja v o vetor auxiliar, onde x deve ser paralelo a y\n",
        "vx=A[0]*a+B[0]*b+C[0]\n",
        "vz=A[2]*a+B[2]*b+C[2]\n",
        "print(vx, vz)\n"
      ],
      "metadata": {
        "colab": {
          "base_uri": "https://localhost:8080/"
        },
        "id": "-yaM0vgQTlb5",
        "outputId": "bb9d39ea-b2af-4ca0-c316-e914e2715e95"
      },
      "execution_count": null,
      "outputs": [
        {
          "output_type": "stream",
          "name": "stdout",
          "text": [
            "5*alpha - beta + 8 2*alpha + 6*beta\n"
          ]
        }
      ]
    },
    {
      "cell_type": "code",
      "source": [
        "#questão 1.6?\n",
        "a,b,c=sp.symbols(['alpha', 'beta','gamma'])\n",
        "A=sp.Matrix([1,1,4])\n",
        "B=sp.Matrix([3,1,-6])\n",
        "A=sp.Matrix([5,2,1])"
      ],
      "metadata": {
        "id": "0EMvtl0bTlgO"
      },
      "execution_count": null,
      "outputs": []
    },
    {
      "cell_type": "code",
      "source": [
        "#questão 1.7 \n",
        "# a)questao de demonstração nao sei pôr no python\n",
        "\n",
        "#b)  ?????\n",
        "ax=2\n",
        "ay=1\n",
        "az=2\n",
        "\n",
        "ax= (ay.cross(az))/(ay.cross(az)).dot(ax)"
      ],
      "metadata": {
        "id": "N3eSm91GTljt",
        "colab": {
          "base_uri": "https://localhost:8080/",
          "height": 200
        },
        "outputId": "c1e4bd22-7723-4a76-8634-02c8472ad66b"
      },
      "execution_count": null,
      "outputs": [
        {
          "output_type": "error",
          "ename": "AttributeError",
          "evalue": "ignored",
          "traceback": [
            "\u001b[0;31m---------------------------------------------------------------------------\u001b[0m",
            "\u001b[0;31mAttributeError\u001b[0m                            Traceback (most recent call last)",
            "\u001b[0;32m<ipython-input-14-c9aab59d0362>\u001b[0m in \u001b[0;36m<cell line: 9>\u001b[0;34m()\u001b[0m\n\u001b[1;32m      7\u001b[0m \u001b[0maz\u001b[0m\u001b[0;34m=\u001b[0m\u001b[0;36m2\u001b[0m\u001b[0;34m\u001b[0m\u001b[0;34m\u001b[0m\u001b[0m\n\u001b[1;32m      8\u001b[0m \u001b[0;34m\u001b[0m\u001b[0m\n\u001b[0;32m----> 9\u001b[0;31m \u001b[0max\u001b[0m\u001b[0;34m=\u001b[0m \u001b[0;34m(\u001b[0m\u001b[0may\u001b[0m\u001b[0;34m.\u001b[0m\u001b[0mcross\u001b[0m\u001b[0;34m(\u001b[0m\u001b[0maz\u001b[0m\u001b[0;34m)\u001b[0m\u001b[0;34m)\u001b[0m\u001b[0;34m/\u001b[0m\u001b[0;34m(\u001b[0m\u001b[0may\u001b[0m\u001b[0;34m.\u001b[0m\u001b[0mcross\u001b[0m\u001b[0;34m(\u001b[0m\u001b[0maz\u001b[0m\u001b[0;34m)\u001b[0m\u001b[0;34m)\u001b[0m\u001b[0;34m.\u001b[0m\u001b[0mdot\u001b[0m\u001b[0;34m(\u001b[0m\u001b[0max\u001b[0m\u001b[0;34m)\u001b[0m\u001b[0;34m\u001b[0m\u001b[0;34m\u001b[0m\u001b[0m\n\u001b[0m",
            "\u001b[0;31mAttributeError\u001b[0m: 'int' object has no attribute 'cross'"
          ]
        }
      ]
    },
    {
      "cell_type": "code",
      "source": [
        "#questão 1.8\n",
        "P=sp.Matrix([2,-1,-2])\n",
        "Q=sp.Matrix([4,3,2])\n",
        "R=sp.Matrix([-1,1,2])\n",
        "\n",
        "#a)\n",
        "l=P+Q-R\n",
        "l_np=np.array(l).astype(float)\n",
        "l_norm=np.linalg.norm(l_np)\n",
        "print(\"a resposta de  |P+Q-R| será: \", l_norm)\n",
        "\n",
        "#b)\n",
        "\n",
        "b=P.dot(Q.cross(R))\n",
        "print(\"a resposta de  P.QxR será: \", b)\n",
        "\n",
        "#c)\n",
        "\n",
        "c=R.dot(Q.cross(P))\n",
        "print(\"a resposta de  QxP.R será: \", b)\n",
        "\n",
        "#d)\n",
        "d=(P.cross(Q)).dot(Q.cross(R))\n",
        "print(\"a resposta de  PxQ.QxR  será: \", d )\n",
        "\n",
        "#e)\n",
        "e=(P.cross(Q)).cross(Q.cross(R))\n",
        "print(\"a resposta de  (PxQ)x(QxR)  será: \", e )\n",
        "\n",
        "#f)\n",
        "????\n",
        "\n",
        "#g)\n",
        "PxQ=P.cross(Q)\n",
        "PxQ_np=np.array(PxQ).astype(float)\n",
        "PxQ_norm=np.linalg.norm(PxQ_np)\n",
        "\n",
        "Q_np=np.array(Q).astype(float)\n",
        "Q_norm=np.linalg.norm(Q_np)\n",
        "\n",
        "\n",
        "P_np=np.array(P).astype(float)\n",
        "P_norm=np.linalg.norm(P_np)\n",
        "\n",
        "g=PxQ_norm/P_norm*Q_norm\n",
        "\n",
        "print(g, \"rad\")"
      ],
      "metadata": {
        "colab": {
          "base_uri": "https://localhost:8080/"
        },
        "id": "TYn5el4LTlmo",
        "outputId": "f7b45d2e-2092-4573-98a2-992b4ea44a36"
      },
      "execution_count": null,
      "outputs": [
        {
          "output_type": "stream",
          "name": "stdout",
          "text": [
            "a resposta de  |P+Q-R| será:  7.3484692283495345\n",
            "a resposta de  P.QxR será:  4\n",
            "a resposta de  QxP.R será:  4\n",
            "a resposta de  PxQ.QxR  será:  206\n",
            "a resposta de  (PxQ)x(QxR)  será:  Matrix([[16], [12], [8]])\n",
            "28.94439112812321 rad\n"
          ]
        }
      ]
    },
    {
      "cell_type": "code",
      "source": [
        "#questão 1.9\n",
        "\n",
        "#a)\n",
        "T=sp.Matrix([2,-6,3])\n",
        "S=sp.Matrix([1,2,1])\n",
        "\n",
        "S_np=np.array(S).astype(float)\n",
        "S_norm=np.linalg.norm(S_np)\n",
        "\n",
        "Pts= T.dot(S)/S_norm\n",
        "print(Pts)\n",
        "\n",
        "#b) ???????\n",
        "T_np=np.array(T).astype(float)\n",
        "T_norm=np.linalg.norm(T_np)\n",
        "\n",
        "b=S.cross(T)@T/(T_norm)**2\n",
        "print(b)\n",
        "\n",
        "\n"
      ],
      "metadata": {
        "id": "Hm83_t7ZTlox",
        "colab": {
          "base_uri": "https://localhost:8080/",
          "height": 397
        },
        "outputId": "c6359326-f8e6-420e-e37b-972d91b5fd90"
      },
      "execution_count": null,
      "outputs": [
        {
          "output_type": "stream",
          "name": "stdout",
          "text": [
            "-2.85773803324704\n"
          ]
        },
        {
          "output_type": "error",
          "ename": "ShapeError",
          "evalue": "ignored",
          "traceback": [
            "\u001b[0;31m---------------------------------------------------------------------------\u001b[0m",
            "\u001b[0;31mShapeError\u001b[0m                                Traceback (most recent call last)",
            "\u001b[0;32m<ipython-input-13-1f38952b0f1e>\u001b[0m in \u001b[0;36m<cell line: 17>\u001b[0;34m()\u001b[0m\n\u001b[1;32m     15\u001b[0m \u001b[0mT_norm\u001b[0m\u001b[0;34m=\u001b[0m\u001b[0mnp\u001b[0m\u001b[0;34m.\u001b[0m\u001b[0mlinalg\u001b[0m\u001b[0;34m.\u001b[0m\u001b[0mnorm\u001b[0m\u001b[0;34m(\u001b[0m\u001b[0mT_np\u001b[0m\u001b[0;34m)\u001b[0m\u001b[0;34m\u001b[0m\u001b[0;34m\u001b[0m\u001b[0m\n\u001b[1;32m     16\u001b[0m \u001b[0;34m\u001b[0m\u001b[0m\n\u001b[0;32m---> 17\u001b[0;31m \u001b[0mb\u001b[0m\u001b[0;34m=\u001b[0m\u001b[0mS\u001b[0m\u001b[0;34m.\u001b[0m\u001b[0mcross\u001b[0m\u001b[0;34m(\u001b[0m\u001b[0mT\u001b[0m\u001b[0;34m)\u001b[0m\u001b[0;34m@\u001b[0m\u001b[0mT\u001b[0m\u001b[0;34m/\u001b[0m\u001b[0;34m(\u001b[0m\u001b[0mT_norm\u001b[0m\u001b[0;34m)\u001b[0m\u001b[0;34m**\u001b[0m\u001b[0;36m2\u001b[0m\u001b[0;34m\u001b[0m\u001b[0;34m\u001b[0m\u001b[0m\n\u001b[0m\u001b[1;32m     18\u001b[0m \u001b[0mprint\u001b[0m\u001b[0;34m(\u001b[0m\u001b[0mb\u001b[0m\u001b[0;34m)\u001b[0m\u001b[0;34m\u001b[0m\u001b[0;34m\u001b[0m\u001b[0m\n\u001b[1;32m     19\u001b[0m \u001b[0;34m\u001b[0m\u001b[0m\n",
            "\u001b[0;32m/usr/local/lib/python3.9/dist-packages/sympy/core/decorators.py\u001b[0m in \u001b[0;36mbinary_op_wrapper\u001b[0;34m(self, other)\u001b[0m\n\u001b[1;32m    104\u001b[0m                     \u001b[0;32mif\u001b[0m \u001b[0mf\u001b[0m \u001b[0;32mis\u001b[0m \u001b[0;32mnot\u001b[0m \u001b[0;32mNone\u001b[0m\u001b[0;34m:\u001b[0m\u001b[0;34m\u001b[0m\u001b[0;34m\u001b[0m\u001b[0m\n\u001b[1;32m    105\u001b[0m                         \u001b[0;32mreturn\u001b[0m \u001b[0mf\u001b[0m\u001b[0;34m(\u001b[0m\u001b[0mself\u001b[0m\u001b[0;34m)\u001b[0m\u001b[0;34m\u001b[0m\u001b[0;34m\u001b[0m\u001b[0m\n\u001b[0;32m--> 106\u001b[0;31m             \u001b[0;32mreturn\u001b[0m \u001b[0mfunc\u001b[0m\u001b[0;34m(\u001b[0m\u001b[0mself\u001b[0m\u001b[0;34m,\u001b[0m \u001b[0mother\u001b[0m\u001b[0;34m)\u001b[0m\u001b[0;34m\u001b[0m\u001b[0;34m\u001b[0m\u001b[0m\n\u001b[0m\u001b[1;32m    107\u001b[0m         \u001b[0;32mreturn\u001b[0m \u001b[0mbinary_op_wrapper\u001b[0m\u001b[0;34m\u001b[0m\u001b[0;34m\u001b[0m\u001b[0m\n\u001b[1;32m    108\u001b[0m     \u001b[0;32mreturn\u001b[0m \u001b[0mpriority_decorator\u001b[0m\u001b[0;34m\u001b[0m\u001b[0;34m\u001b[0m\u001b[0m\n",
            "\u001b[0;32m/usr/local/lib/python3.9/dist-packages/sympy/matrices/common.py\u001b[0m in \u001b[0;36m__matmul__\u001b[0;34m(self, other)\u001b[0m\n\u001b[1;32m   2735\u001b[0m             \u001b[0;32mreturn\u001b[0m \u001b[0mNotImplemented\u001b[0m\u001b[0;34m\u001b[0m\u001b[0;34m\u001b[0m\u001b[0m\n\u001b[1;32m   2736\u001b[0m \u001b[0;34m\u001b[0m\u001b[0m\n\u001b[0;32m-> 2737\u001b[0;31m         \u001b[0;32mreturn\u001b[0m \u001b[0mself\u001b[0m\u001b[0;34m.\u001b[0m\u001b[0m__mul__\u001b[0m\u001b[0;34m(\u001b[0m\u001b[0mother\u001b[0m\u001b[0;34m)\u001b[0m\u001b[0;34m\u001b[0m\u001b[0;34m\u001b[0m\u001b[0m\n\u001b[0m\u001b[1;32m   2738\u001b[0m \u001b[0;34m\u001b[0m\u001b[0m\n\u001b[1;32m   2739\u001b[0m     \u001b[0;32mdef\u001b[0m \u001b[0m__mod__\u001b[0m\u001b[0;34m(\u001b[0m\u001b[0mself\u001b[0m\u001b[0;34m,\u001b[0m \u001b[0mother\u001b[0m\u001b[0;34m)\u001b[0m\u001b[0;34m:\u001b[0m\u001b[0;34m\u001b[0m\u001b[0;34m\u001b[0m\u001b[0m\n",
            "\u001b[0;32m/usr/local/lib/python3.9/dist-packages/sympy/core/decorators.py\u001b[0m in \u001b[0;36mbinary_op_wrapper\u001b[0;34m(self, other)\u001b[0m\n\u001b[1;32m    104\u001b[0m                     \u001b[0;32mif\u001b[0m \u001b[0mf\u001b[0m \u001b[0;32mis\u001b[0m \u001b[0;32mnot\u001b[0m \u001b[0;32mNone\u001b[0m\u001b[0;34m:\u001b[0m\u001b[0;34m\u001b[0m\u001b[0;34m\u001b[0m\u001b[0m\n\u001b[1;32m    105\u001b[0m                         \u001b[0;32mreturn\u001b[0m \u001b[0mf\u001b[0m\u001b[0;34m(\u001b[0m\u001b[0mself\u001b[0m\u001b[0;34m)\u001b[0m\u001b[0;34m\u001b[0m\u001b[0;34m\u001b[0m\u001b[0m\n\u001b[0;32m--> 106\u001b[0;31m             \u001b[0;32mreturn\u001b[0m \u001b[0mfunc\u001b[0m\u001b[0;34m(\u001b[0m\u001b[0mself\u001b[0m\u001b[0;34m,\u001b[0m \u001b[0mother\u001b[0m\u001b[0;34m)\u001b[0m\u001b[0;34m\u001b[0m\u001b[0;34m\u001b[0m\u001b[0m\n\u001b[0m\u001b[1;32m    107\u001b[0m         \u001b[0;32mreturn\u001b[0m \u001b[0mbinary_op_wrapper\u001b[0m\u001b[0;34m\u001b[0m\u001b[0;34m\u001b[0m\u001b[0m\n\u001b[1;32m    108\u001b[0m     \u001b[0;32mreturn\u001b[0m \u001b[0mpriority_decorator\u001b[0m\u001b[0;34m\u001b[0m\u001b[0;34m\u001b[0m\u001b[0m\n",
            "\u001b[0;32m/usr/local/lib/python3.9/dist-packages/sympy/matrices/common.py\u001b[0m in \u001b[0;36m__mul__\u001b[0;34m(self, other)\u001b[0m\n\u001b[1;32m   2769\u001b[0m         \"\"\"\n\u001b[1;32m   2770\u001b[0m \u001b[0;34m\u001b[0m\u001b[0m\n\u001b[0;32m-> 2771\u001b[0;31m         \u001b[0;32mreturn\u001b[0m \u001b[0mself\u001b[0m\u001b[0;34m.\u001b[0m\u001b[0mmultiply\u001b[0m\u001b[0;34m(\u001b[0m\u001b[0mother\u001b[0m\u001b[0;34m)\u001b[0m\u001b[0;34m\u001b[0m\u001b[0;34m\u001b[0m\u001b[0m\n\u001b[0m\u001b[1;32m   2772\u001b[0m \u001b[0;34m\u001b[0m\u001b[0m\n\u001b[1;32m   2773\u001b[0m     \u001b[0;32mdef\u001b[0m \u001b[0mmultiply\u001b[0m\u001b[0;34m(\u001b[0m\u001b[0mself\u001b[0m\u001b[0;34m,\u001b[0m \u001b[0mother\u001b[0m\u001b[0;34m,\u001b[0m \u001b[0mdotprodsimp\u001b[0m\u001b[0;34m=\u001b[0m\u001b[0;32mNone\u001b[0m\u001b[0;34m)\u001b[0m\u001b[0;34m:\u001b[0m\u001b[0;34m\u001b[0m\u001b[0;34m\u001b[0m\u001b[0m\n",
            "\u001b[0;32m/usr/local/lib/python3.9/dist-packages/sympy/matrices/common.py\u001b[0m in \u001b[0;36mmultiply\u001b[0;34m(self, other, dotprodsimp)\u001b[0m\n\u001b[1;32m   2791\u001b[0m              getattr(other, 'is_MatrixLike', True))):\n\u001b[1;32m   2792\u001b[0m             \u001b[0;32mif\u001b[0m \u001b[0mself\u001b[0m\u001b[0;34m.\u001b[0m\u001b[0mshape\u001b[0m\u001b[0;34m[\u001b[0m\u001b[0;36m1\u001b[0m\u001b[0;34m]\u001b[0m \u001b[0;34m!=\u001b[0m \u001b[0mother\u001b[0m\u001b[0;34m.\u001b[0m\u001b[0mshape\u001b[0m\u001b[0;34m[\u001b[0m\u001b[0;36m0\u001b[0m\u001b[0;34m]\u001b[0m\u001b[0;34m:\u001b[0m\u001b[0;34m\u001b[0m\u001b[0;34m\u001b[0m\u001b[0m\n\u001b[0;32m-> 2793\u001b[0;31m                 raise ShapeError(\"Matrix size mismatch: %s * %s.\" % (\n\u001b[0m\u001b[1;32m   2794\u001b[0m                     self.shape, other.shape))\n\u001b[1;32m   2795\u001b[0m \u001b[0;34m\u001b[0m\u001b[0m\n",
            "\u001b[0;31mShapeError\u001b[0m: Matrix size mismatch: (3, 1) * (3, 1)."
          ]
        }
      ]
    },
    {
      "cell_type": "code",
      "source": [
        "#questão 1.10"
      ],
      "metadata": {
        "id": "suTiVPDnTltx"
      },
      "execution_count": null,
      "outputs": []
    },
    {
      "cell_type": "code",
      "source": [
        "#questão 1.11"
      ],
      "metadata": {
        "id": "2oP-Q1AYTlwz"
      },
      "execution_count": null,
      "outputs": []
    },
    {
      "cell_type": "code",
      "source": [
        "#questão 1.12"
      ],
      "metadata": {
        "id": "CiiT6Pe2Tl1h"
      },
      "execution_count": null,
      "outputs": []
    },
    {
      "cell_type": "code",
      "source": [
        "#questão 1.13"
      ],
      "metadata": {
        "id": "Zf3G-wnfTR3f"
      },
      "execution_count": null,
      "outputs": []
    },
    {
      "cell_type": "code",
      "source": [
        "#questão 1.14"
      ],
      "metadata": {
        "id": "vNq-De8YT-02"
      },
      "execution_count": null,
      "outputs": []
    },
    {
      "cell_type": "code",
      "source": [
        "#questão 1.15"
      ],
      "metadata": {
        "id": "0Z2veDGJT_Dl"
      },
      "execution_count": null,
      "outputs": []
    },
    {
      "cell_type": "code",
      "source": [
        "#questão 1.16"
      ],
      "metadata": {
        "id": "o82-R_inT_M-"
      },
      "execution_count": null,
      "outputs": []
    },
    {
      "cell_type": "code",
      "source": [
        "#questão 1.17"
      ],
      "metadata": {
        "id": "BLLvBjCKT_PC"
      },
      "execution_count": null,
      "outputs": []
    },
    {
      "cell_type": "code",
      "source": [
        "#questão 1.18"
      ],
      "metadata": {
        "id": "x1oc5CXRUANB"
      },
      "execution_count": null,
      "outputs": []
    },
    {
      "cell_type": "code",
      "source": [
        "#questão 1.19"
      ],
      "metadata": {
        "id": "8Y2lX0BMUAXi"
      },
      "execution_count": null,
      "outputs": []
    },
    {
      "cell_type": "code",
      "source": [
        "#questão 1.20"
      ],
      "metadata": {
        "id": "SgWI0S4qUAhE"
      },
      "execution_count": null,
      "outputs": []
    },
    {
      "cell_type": "code",
      "source": [
        "#questão 1.21"
      ],
      "metadata": {
        "id": "S0DtgYMWUApf"
      },
      "execution_count": null,
      "outputs": []
    },
    {
      "cell_type": "code",
      "source": [
        "#questão 1.22"
      ],
      "metadata": {
        "id": "5GhM0mq5UAwp"
      },
      "execution_count": null,
      "outputs": []
    }
  ]
}